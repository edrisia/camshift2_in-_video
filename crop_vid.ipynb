{
 "cells": [
  {
   "cell_type": "code",
   "execution_count": 6,
   "id": "427cc453",
   "metadata": {},
   "outputs": [
    {
     "ename": "IndentationError",
     "evalue": "unexpected indent (<ipython-input-6-c64b10665a69>, line 27)",
     "output_type": "error",
     "traceback": [
      "\u001b[1;36m  File \u001b[1;32m\"<ipython-input-6-c64b10665a69>\"\u001b[1;36m, line \u001b[1;32m27\u001b[0m\n\u001b[1;33m    while(cap.isOpen()):           #while the cap is open\u001b[0m\n\u001b[1;37m    ^\u001b[0m\n\u001b[1;31mIndentationError\u001b[0m\u001b[1;31m:\u001b[0m unexpected indent\n"
     ]
    }
   ],
   "source": [
    "import cv2 \n",
    "from datetime import datetime\n",
    "\n",
    "ﬁlename=\"C:\\\\Users\\\\آيلا فيصل\\\\Desktop\\\\New folder (3)\\\\aaa1.mp4\"   #ﬁlename\n",
    "cap = cv2.VideoCapture(ﬁlename) #Read Frame\n",
    "fps=cap.get(cv2.CAP_PROP_FPS)    #Extract the frame per second (fps)\n",
    "\n",
    "height=int(cap.get(cv2.CAP_PROP_FRAME_HEIGHT)) #height\n",
    "width=int(cap.get(cv2.CAP_PROP_FRAME_WIDTH)) #width\n",
    "\n",
    "origin=\"00:00:00\"          #the origin\n",
    "start=\"00:00:20\"           #specify start time in hh:mm:ss\n",
    "end = \"00:01:00\"           #specify end time in hh:mm:ss\n",
    "\n",
    "origintime = datetime.strptime(origin,\"%H:%M:%S\") #origin\n",
    "starttime = datetime.strptime(start,\"%H:%M:%S\") #start time\n",
    "endtime=datetime.strptime(end,\"%H:%M:%S\")      #end time\n",
    "\n",
    "startframe = fps*(starttime-origintime).total_seconds()  #get the start frame  #get the start frame\n",
    "endframe=fps*(endtime-origintime).total_seconds() #get the end frame\n",
    "\n",
    "#video writer \n",
    "fourcc = cv2.VideoWriter_fourcc(* XVID ) \n",
    "out1 = cv2.VideoWriter( output.avi ,fourcc, fps, (width,height))\n",
    "\n",
    "counter =1                        #set counter\n",
    "  while(cap.isOpen()):           #while the cap is open\n",
    "    \n",
    "   ret, frame = cap.read()       #read frame \n",
    "if frame is None:             #if frame is None      \n",
    "break  \n",
    "\n",
    "   frame=cv2.resize(frame, (width,height))  #resize the frame \n",
    "    if counter>=startframe and counter<=endframe: #check for range of output \n",
    "        out1.write(frame)  #output\n",
    "        \n",
    "   cv2.imshow(\"Frame\", frame)  #display frame \n",
    "key = cv2.waitKey(1) & 0xFF\n",
    "\n",
    "   counter+=1  #increase counter\n",
    "    \n",
    "#release the output and cap \n",
    "out1.release()\n",
    "cv2.destroyAllWindows()"
   ]
  },
  {
   "cell_type": "code",
   "execution_count": 1,
   "id": "57215146",
   "metadata": {},
   "outputs": [],
   "source": [
    "import numpy as np\n",
    "import cv2 \n",
    "cap = cv2.VideoCapture('C:\\\\Users\\\\آيلا فيصل\\\\Desktop\\\\New folder (3)\\\\aaa1.mp4')\n",
    "      #take first frame of the video\n",
    "ret,frame = cap.read()\n",
    "#setup initial location of window\n",
    "r,h,c,w = 250,90,400,125 #simple hardcoded the values\n",
    "track_window = (c,r,w,h)\n",
    "#set up the ROI for tracking\n",
    "roi = frame[r:r+h, c:c+w]\n",
    "hsv_roi = cv2.cvtColor(frame, cv2.COLOR_BGR2HSV)\n",
    "mask = cv2.inRange(hsv_roi, np.array((0., 60., 32.)), np.array((180.,255.,255)))\n",
    "roi_hist = cv2.calcHist([hsv_roi],[0],mask,[180],[0,180])\n",
    "cv2.normalize(roi_hist,roi_hist,0,255,cv2.NORM_MINMAX)\n",
    "#setup the terminations criteria,..................\n",
    "term_crit = (cv2.TERM_CRITERIA_EPS | cv2.TERM_CRITERIA_COUNT, 10, 1)\n",
    "while(1):\n",
    "    ret ,frame = cap.read()\n",
    "    if ret==True:\n",
    "        hsv = cv2.cvtColor(frame, cv2.COLOR_BGR2HSV)\n",
    "        dst = cv2.calcBackProject([hsv],[0],roi_hist,[0,180],1)\n",
    "        #apply............................................\n",
    "        ret, track_window = cv2.CamShift(dst, track_window, term_crit)\n",
    "        #drwo..............................\n",
    "        pts = cv2.boxPoints(ret)\n",
    "        pts = np.int0(pts)\n",
    "        img2 = cv2.polylines(frame,[pts],True, 255,2)\n",
    "        cv2.imshow('img2',img2)\n",
    "        k = cv2.waitKey(60) & 0xff\n",
    "        if k == 27:\n",
    "            break\n",
    "        else:\n",
    "            cv2.imwrite(chr(k)+\".jpg\",img2)\n",
    "    else:\n",
    "                break\n",
    "cv2.destroyAllWindows()\n",
    "cap.release()"
   ]
  },
  {
   "cell_type": "code",
   "execution_count": 4,
   "id": "47d9cc29",
   "metadata": {},
   "outputs": [
    {
     "ename": "AttributeError",
     "evalue": "module 'cv2.cv2' has no attribute 'createBackgroundSubtractorMOG'",
     "output_type": "error",
     "traceback": [
      "\u001b[1;31m---------------------------------------------------------------------------\u001b[0m",
      "\u001b[1;31mAttributeError\u001b[0m                            Traceback (most recent call last)",
      "\u001b[1;32m<ipython-input-4-a6604db28641>\u001b[0m in \u001b[0;36m<module>\u001b[1;34m\u001b[0m\n\u001b[0;32m      2\u001b[0m \u001b[0mcap\u001b[0m \u001b[1;33m=\u001b[0m \u001b[0mcv\u001b[0m\u001b[1;33m.\u001b[0m\u001b[0mVideoCapture\u001b[0m\u001b[1;33m(\u001b[0m\u001b[1;34m'C:\\\\Users\\\\آيلا فيصل\\\\Desktop\\\\New folder (3)\\\\aaa2.mp4'\u001b[0m\u001b[1;33m)\u001b[0m\u001b[1;33m\u001b[0m\u001b[1;33m\u001b[0m\u001b[0m\n\u001b[0;32m      3\u001b[0m \u001b[0mKernel\u001b[0m \u001b[1;33m=\u001b[0m \u001b[0mcv\u001b[0m\u001b[1;33m.\u001b[0m\u001b[0mgetStructuringElement\u001b[0m\u001b[1;33m(\u001b[0m\u001b[0mcv\u001b[0m\u001b[1;33m.\u001b[0m\u001b[0mMORPH_ELLIPSE\u001b[0m\u001b[1;33m,\u001b[0m\u001b[1;33m(\u001b[0m\u001b[1;36m3\u001b[0m\u001b[1;33m,\u001b[0m\u001b[1;36m3\u001b[0m\u001b[1;33m)\u001b[0m\u001b[1;33m)\u001b[0m\u001b[1;33m\u001b[0m\u001b[1;33m\u001b[0m\u001b[0m\n\u001b[1;32m----> 4\u001b[1;33m \u001b[0mfgbg\u001b[0m \u001b[1;33m=\u001b[0m \u001b[0mcv\u001b[0m\u001b[1;33m.\u001b[0m\u001b[0mcreateBackgroundSubtractorMOG\u001b[0m\u001b[1;33m(\u001b[0m\u001b[1;33m)\u001b[0m\u001b[1;33m\u001b[0m\u001b[1;33m\u001b[0m\u001b[0m\n\u001b[0m\u001b[0;32m      5\u001b[0m \u001b[1;32mwhile\u001b[0m\u001b[1;33m(\u001b[0m\u001b[1;36m1\u001b[0m\u001b[1;33m)\u001b[0m\u001b[1;33m:\u001b[0m\u001b[1;33m\u001b[0m\u001b[1;33m\u001b[0m\u001b[0m\n\u001b[0;32m      6\u001b[0m    \u001b[0mret\u001b[0m\u001b[1;33m,\u001b[0m \u001b[0mframe\u001b[0m \u001b[1;33m=\u001b[0m \u001b[0mcap\u001b[0m\u001b[1;33m.\u001b[0m\u001b[0mread\u001b[0m\u001b[1;33m(\u001b[0m\u001b[1;33m)\u001b[0m\u001b[1;33m\u001b[0m\u001b[1;33m\u001b[0m\u001b[0m\n",
      "\u001b[1;31mAttributeError\u001b[0m: module 'cv2.cv2' has no attribute 'createBackgroundSubtractorMOG'"
     ]
    }
   ],
   "source": [
    "import cv2 as cv\n",
    "cap = cv.VideoCapture('C:\\\\Users\\\\آيلا فيصل\\\\Desktop\\\\New folder (3)\\\\aaa2.mp4')\n",
    "Kernel = cv.getStructuringElement(cv.MORPH_ELLIPSE,(3,3))\n",
    "fgbg = cv.bgseg.createBackgroundSubtractorMOG()\n",
    "while(1):\n",
    "   ret, frame = cap.read()\n",
    "   fgmask = fgbg.apply(frame)\n",
    "   cv.imshow('frame',fgmask)\n",
    "   k = cv.waitKey(30) & 0xff\n",
    "   if k == 27:\n",
    "      break\n",
    "cap.release()\n",
    "cv.destroyAllWindows()\n",
    "    "
   ]
  },
  {
   "cell_type": "code",
   "execution_count": null,
   "id": "e309959f",
   "metadata": {},
   "outputs": [],
   "source": []
  }
 ],
 "metadata": {
  "kernelspec": {
   "display_name": "Python 3",
   "language": "python",
   "name": "python3"
  },
  "language_info": {
   "codemirror_mode": {
    "name": "ipython",
    "version": 3
   },
   "file_extension": ".py",
   "mimetype": "text/x-python",
   "name": "python",
   "nbconvert_exporter": "python",
   "pygments_lexer": "ipython3",
   "version": "3.8.8"
  }
 },
 "nbformat": 4,
 "nbformat_minor": 5
}
